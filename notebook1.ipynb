{
 "cells": [
  {
   "cell_type": "markdown",
   "metadata": {},
   "source": [
    "# XML Objects\n",
    "\n",
    "Challange: https://www.hackerrank.com/challenges/xml-1-find-the-score"
   ]
  },
  {
   "cell_type": "code",
   "execution_count": 1,
   "metadata": {},
   "outputs": [],
   "source": [
    "import xml.etree.ElementTree as etree\n",
    "\n",
    "\n",
    "def get_attr_number(root, score = 0): # get the root with getroot() method of an etree object\n",
    "    \n",
    "    # Get the attribute number in the root node\n",
    "    score += len(root.attrib)\n",
    "\n",
    "    # get all the childs attributes\n",
    "    for child in root:\n",
    "        if child.getchildren() != []:\n",
    "            print(child)\n",
    "            score = get_attr_number(child, score)\n",
    "        else:\n",
    "            score += len(child.attrib)\n",
    "\n",
    "    return score\n"
   ]
  },
  {
   "cell_type": "markdown",
   "metadata": {},
   "source": [
    "# Minion's Game\n",
    "\n",
    "Challange: https://www.hackerrank.com/challenges/the-minion-game"
   ]
  },
  {
   "cell_type": "code",
   "execution_count": 2,
   "metadata": {},
   "outputs": [],
   "source": [
    "import string as st \n",
    "\n",
    "def minion_game(string):\n",
    "\n",
    "    vowels = \"aeiou\"\n",
    "    consonants = \"\".join([char for char in st.ascii_lowercase if char not in vowels])\n",
    "\n",
    "    # compute all the possible substrings of the given word\n",
    "    all_possible_cases = all_substrings(string.lower())\n",
    "\n",
    "    # compute scores\n",
    "    stuart = player_score(all_possible_cases, consonants)\n",
    "    kevin = player_score(all_possible_cases, vowels)\n",
    "\n",
    "\n",
    "    if stuart > kevin:\n",
    "        print(f\"Stuart {stuart}\")\n",
    "    elif stuart < kevin:\n",
    "        print(f\"Kevin {kevin}\")\n",
    "    else:\n",
    "        print(\"Draw\")\n",
    "\n",
    "\n",
    "def all_substrings(string):\n",
    "\n",
    "    all_subs = {}\n",
    "\n",
    "    for i in range(0, len(string)+1):\n",
    "        for j in range(i, len(string)):\n",
    "            if string[i:j+1] not in all_subs:\n",
    "                all_subs[string[i:j+1]] = 1\n",
    "            else:\n",
    "                all_subs[string[i:j+1]] += 1\n",
    "\n",
    "    return all_subs\n",
    "\n",
    "\n",
    "def player_score(cases, chars):\n",
    "\n",
    "    score = {}\n",
    "\n",
    "    for key, value in cases.items():\n",
    "        for char in chars:\n",
    "            if key.startswith(char):\n",
    "                score[key] = value\n",
    "    \n",
    "    return sum(score.values())\n"
   ]
  },
  {
   "cell_type": "markdown",
   "metadata": {},
   "source": [
    "This solution is computationally expensive since it iterates over all the possible configurations; this become prohibitive with very large input. An easier and alternative solution is the following"
   ]
  },
  {
   "cell_type": "code",
   "execution_count": 3,
   "metadata": {},
   "outputs": [],
   "source": [
    "def minion_game(string):\n",
    "    length = len(string)\n",
    "    Kevin_scores = 0\n",
    "    Stuart_scores = 0\n",
    "    vowels = 'AEIOU'\n",
    "\n",
    "    for i in range(length):\n",
    "        if string[i] in vowels:\n",
    "            Kevin_scores += length - i\n",
    "        else:\n",
    "            Stuart_scores += length - i\n",
    "\n",
    "    if Stuart_scores > Kevin_scores:\n",
    "        print(f'Stuart {Stuart_scores}')\n",
    "    elif Stuart_scores < Kevin_scores:\n",
    "        print(f'Kevin {Kevin_scores}')\n",
    "    else:\n",
    "        print('Draw')\n"
   ]
  },
  {
   "cell_type": "markdown",
   "metadata": {},
   "source": [
    "# Merge the tools!\n",
    "\n",
    "Challange: https://www.hackerrank.com/challenges/merge-the-tools"
   ]
  },
  {
   "cell_type": "code",
   "execution_count": 4,
   "metadata": {},
   "outputs": [],
   "source": [
    "def merge_the_tools(string, k):\n",
    "    # your code goes here\n",
    "    l = []\n",
    "    \n",
    "    for i in range(0, len(string)-k+1, k):\n",
    "        sub = string[i:i+k]\n",
    "        \n",
    "        n_sub = ''\n",
    "        for char in sub:\n",
    "            if char not in n_sub:\n",
    "                n_sub += char\n",
    "\n",
    "        l.append(n_sub)\n",
    "    \n",
    "    return l"
   ]
  },
  {
   "cell_type": "markdown",
   "metadata": {},
   "source": [
    "# Floating Point validator\n",
    "\n",
    "Challange: https://www.hackerrank.com/challenges/introduction-to-regex"
   ]
  },
  {
   "cell_type": "code",
   "execution_count": null,
   "metadata": {},
   "outputs": [],
   "source": [
    "import re\n",
    "\n",
    "# float number validators\n",
    "def is_float(string):\n",
    "    pattern = r'^[-+]?(\\d+\\.|\\.)\\d+$' # in curl brackets we can specify multiple conditions\n",
    "\n",
    "    if not re.match(pattern, string):\n",
    "        return False\n",
    "    else:\n",
    "        return True\n",
    "\n",
    "if __name__ == '__main__':\n",
    "\n",
    "    n = int(input())\n",
    "    for i in range(n):\n",
    "        text = input()\n",
    "        print(is_float(text))"
   ]
  },
  {
   "cell_type": "markdown",
   "metadata": {},
   "source": [
    "# Raghu Shop\n",
    "\n",
    "Challange: https://www.hackerrank.com/challenges/collections-counter"
   ]
  },
  {
   "cell_type": "code",
   "execution_count": null,
   "metadata": {},
   "outputs": [],
   "source": [
    "from collections import Counter\n",
    "\n",
    "def raghu_shop_earnings(shoe_sizes_collection, purchase, total):\n",
    "\n",
    "    if purchase[0] in shoe_sizes_collection:\n",
    "        total += int(purchase[1]) # increase earnings \n",
    "        shoe_sizes_collection[purchase[0]] -= 1 # decrease items\n",
    "\n",
    "        if shoe_sizes_collection[purchase[0]] == 0:\n",
    "            del shoe_sizes_collection[purchase[0]] # remove the item if no longer available\n",
    "\n",
    "    return total, shoe_sizes_collection\n",
    "\n",
    "\n",
    "if __name__ == \"__main__\":\n",
    "\n",
    "    x = int(input()) # number of shoes\n",
    "    shoe_sizes_list = Counter(input().split())\n",
    "    n = int(input()) # number of customers\n",
    "    total = 0\n",
    "\n",
    "    for i in range(n):\n",
    "        purchase = input().split()\n",
    "        total, shoe_sizes_list = raghu_shop_earnings(shoe_sizes_list, purchase, total)\n",
    "\n",
    "    print(total)"
   ]
  },
  {
   "cell_type": "markdown",
   "metadata": {},
   "source": [
    "# Deafult Dict objects\n",
    "\n",
    "Challange: https://www.hackerrank.com/challenges/defaultdict-tutorial"
   ]
  },
  {
   "cell_type": "code",
   "execution_count": null,
   "metadata": {},
   "outputs": [],
   "source": [
    "from collections import defaultdict\n",
    "\n",
    "\n",
    "if __name__ == \"__main__\":\n",
    "    d = defaultdict(list)\n",
    "    n, m = tuple(input().split())\n",
    "\n",
    "    for i in range(1,int(n)+1):\n",
    "        d[input()].append(str(i))\n",
    "\n",
    "    b = [input() for j in range(int(m))]\n",
    "\n",
    "    for element in b:\n",
    "        if element in d.keys():\n",
    "            print(\" \".join(d[element]))\n",
    "        else:\n",
    "            print(\"-1\")"
   ]
  },
  {
   "cell_type": "markdown",
   "metadata": {},
   "source": [
    "# Namedtuple\n",
    "\n",
    "Challange: https://www.hackerrank.com/challenges/py-collections-namedtuple"
   ]
  },
  {
   "cell_type": "code",
   "execution_count": null,
   "metadata": {},
   "outputs": [],
   "source": [
    "from collections import namedtuple\n",
    "\n",
    "if __name__ == \"__main__\":\n",
    "\n",
    "    n = int(input()) # number of students\n",
    "    student_info = namedtuple('StudentInfo', input()) # random order\n",
    "    sum = 0\n",
    "    for i in range(n):\n",
    "        student_data = student_info(*input().split()) # use * to consume an input from an iterable\n",
    "        sum += int(student_data.MARKS)\n",
    "\n",
    "    avg = round(sum/n, 2)\n",
    "    print(avg)"
   ]
  },
  {
   "cell_type": "markdown",
   "metadata": {},
   "source": [
    "# Ordered Dictionary\n",
    "\n",
    "Challange: https://www.hackerrank.com/challenges/py-collections-ordereddict"
   ]
  },
  {
   "cell_type": "code",
   "execution_count": null,
   "metadata": {},
   "outputs": [],
   "source": [
    "from collections import OrderedDict\n",
    "\n",
    "\n",
    "if __name__ == \"__main__\":\n",
    "    n = int(input()) # the number of items in the supermarket\n",
    "    inventary = OrderedDict()\n",
    "\n",
    "    for i in range(n):\n",
    "        *item, money = tuple(input().split())\n",
    "        item = \" \".join(item)\n",
    "        if item not in inventary:\n",
    "            inventary[item] = int(money)\n",
    "        else:\n",
    "            inventary[item] += int(money)\n",
    "\n",
    "    for item,net_income in inventary.items():\n",
    "        print(f\"{item} {net_income}\")\n"
   ]
  },
  {
   "cell_type": "markdown",
   "metadata": {},
   "source": [
    "# Piling Up!\n",
    "\n",
    "Challange: https://www.hackerrank.com/challenges/piling-up"
   ]
  },
  {
   "cell_type": "code",
   "execution_count": null,
   "metadata": {},
   "outputs": [],
   "source": [
    "from collections import deque\n",
    "\n",
    "\n",
    "def isStackable(cubes_number, sideLengths):\n",
    "\n",
    "    q = deque(sideLengths)\n",
    "    stack = [] \n",
    "    stackable = True\n",
    "\n",
    "    while len(q) > 0 and stackable:\n",
    "        leftmost = q.popleft()\n",
    "        try:\n",
    "            rightmost = q.pop()\n",
    "        except IndexError:\n",
    "            rightmost = 0\n",
    "            \n",
    "        greatmost = max(leftmost, rightmost) # they can be equal\n",
    "\n",
    "        if stack == []: # At the beginning the stack is empty so insert the highest available value\n",
    "            stack.append(greatmost)\n",
    "        else:\n",
    "            if greatmost <= stack[-1]:\n",
    "                stack.append(greatmost)\n",
    "            else:\n",
    "                stackable = False\n",
    "\n",
    "        if greatmost == leftmost and rightmost != 0: \n",
    "            q.append(rightmost)\n",
    "        elif greatmost == rightmost and leftmost != 0:\n",
    "            q.appendleft(leftmost)\n",
    "\n",
    "    if stackable:\n",
    "        return \"Yes\"\n",
    "    else:\n",
    "        return \"No\"\n",
    "        \n",
    "\n",
    "if __name__ == \"__main__\":\n",
    "    number_tests = int(input()) # number of test cases\n",
    "    for test in range(number_tests):\n",
    "        cubes_number = int(input())\n",
    "        sideLengths = [int(item) for item in input().split()]\n",
    "        print(isStackable(cubes_number, sideLengths))"
   ]
  },
  {
   "cell_type": "markdown",
   "metadata": {},
   "source": [
    "# Itertools"
   ]
  },
  {
   "cell_type": "markdown",
   "metadata": {},
   "source": [
    "### Permutations\n",
    "\n",
    "Challange: https://www.hackerrank.com/challenges/itertools-permutations"
   ]
  },
  {
   "cell_type": "code",
   "execution_count": null,
   "metadata": {},
   "outputs": [],
   "source": [
    "from itertools import permutations\n",
    "import re\n",
    "\n",
    "if __name__ == \"__main__\":\n",
    "    s = input()\n",
    "    k = re.findall(pattern = r'\\d+', string = s)[0]\n",
    "    list_of_chars = list(s.replace(k, \"\").strip())\n",
    "    all_permut = permutations(sorted(list_of_chars), int(k))\n",
    "    for p in all_permut:\n",
    "        print(\"\".join([i for i in p]))"
   ]
  },
  {
   "cell_type": "markdown",
   "metadata": {},
   "source": [
    "### Combinations\n",
    "\n",
    "Challange: https://www.hackerrank.com/challenges/itertools-combinations"
   ]
  },
  {
   "cell_type": "code",
   "execution_count": null,
   "metadata": {},
   "outputs": [],
   "source": [
    "from itertools import combinations\n",
    "import re\n",
    "\n",
    "if __name__ == \"__main__\":\n",
    "    s = input()\n",
    "    k = re.findall(pattern = r'\\d+', string = s)[0]\n",
    "    list_of_chars = sorted(list(s.replace(k, \"\").strip()))\n",
    "    all_combos = []\n",
    "    for i in range(1, int(k)+1):\n",
    "        all_combos.extend(list(combinations(list_of_chars, i)))\n",
    "    for combo in all_combos:\n",
    "        print(\"\".join([j for j in combo]))"
   ]
  },
  {
   "cell_type": "markdown",
   "metadata": {},
   "source": [
    "### Combinations with replacement\n",
    "\n",
    "Challange: https://www.hackerrank.com/challenges/itertools-combinations-with-replacement"
   ]
  },
  {
   "cell_type": "code",
   "execution_count": null,
   "metadata": {},
   "outputs": [],
   "source": [
    "from itertools import combinations_with_replacement\n",
    "import re\n",
    "\n",
    "if __name__ == \"__main__\":\n",
    "    s = input()\n",
    "    k = re.findall(pattern = r'\\d+', string = s)[0]\n",
    "    list_of_chars = sorted(list(s.replace(k, \"\").strip()))\n",
    "    all_combos = combinations_with_replacement(list_of_chars, int(k))\n",
    "    for combo in all_combos:\n",
    "        print(\"\".join([j for j in combo]))"
   ]
  },
  {
   "cell_type": "markdown",
   "metadata": {},
   "source": [
    "### Compress the string! (Groupby)\n",
    "\n",
    "Challange: https://www.hackerrank.com/challenges/compress-the-string"
   ]
  },
  {
   "cell_type": "code",
   "execution_count": null,
   "metadata": {},
   "outputs": [],
   "source": [
    "from itertools import groupby\n",
    "\n",
    "if __name__ == \"__main__\":\n",
    "    s = input()\n",
    "    list_of_chars = [int(i) for i in s]\n",
    "    all_groups = [(len(list(g)), k) for k,g in groupby(list_of_chars)]\n",
    "    print(*all_groups) # i put the * in front of the list to unpack it and print in a single line as requested"
   ]
  }
 ],
 "metadata": {
  "kernelspec": {
   "display_name": "Python 3",
   "language": "python",
   "name": "python3"
  },
  "language_info": {
   "codemirror_mode": {
    "name": "ipython",
    "version": 3
   },
   "file_extension": ".py",
   "mimetype": "text/x-python",
   "name": "python",
   "nbconvert_exporter": "python",
   "pygments_lexer": "ipython3",
   "version": "3.8.10"
  }
 },
 "nbformat": 4,
 "nbformat_minor": 2
}
